{
 "cells": [
  {
   "cell_type": "code",
   "execution_count": null,
   "id": "fae5855f-14a4-4727-ae54-5ff5ec8721e7",
   "metadata": {},
   "outputs": [],
   "source": [
    "import pandas as pd\n",
    "import numpy as np\n",
    "import matplotlib.pyplot as plt\n",
    "import seaborn as sns\n",
    "from sklearn.model_selection import train_test_split\n",
    "from sklearn.preprocessing import StandardScaler, LabelEncoder\n",
    "from sklearn.ensemble import RandomForestRegressor, GradientBoostingRegressor\n",
    "from sklearn.linear_model import LinearRegression\n",
    "from sklearn.metrics import mean_squared_error, r2_score\n",
    "from xgboost import XGBRegressor\n",
    "import joblib\n",
    "import warnings \n",
    "\n",
    "warnings.filterwarnings(\"ignore\")"
   ]
  },
  {
   "cell_type": "code",
   "execution_count": null,
   "id": "5edd499b-c654-4478-b359-a2834cf5284d",
   "metadata": {},
   "outputs": [],
   "source": [
    "# Load the dataset\n",
    "df = pd.read_csv(\"pubg.csv\")\n",
    "\n",
    "# Display the first 5 rows\n",
    "df.head()"
   ]
  },
  {
   "cell_type": "markdown",
   "id": "37925e19-ec7b-472c-982e-83cc97658525",
   "metadata": {},
   "source": [
    "### Data Preprocessing"
   ]
  },
  {
   "cell_type": "code",
   "execution_count": null,
   "id": "69762046-fe17-4722-8e65-b365e223e751",
   "metadata": {},
   "outputs": [],
   "source": [
    "# Check for missing values\n",
    "print(\"Missing Values:\\n\", df.isnull().sum())"
   ]
  },
  {
   "cell_type": "code",
   "execution_count": null,
   "id": "e3e00665-f1bf-4e71-9522-cf00b1321838",
   "metadata": {},
   "outputs": [],
   "source": [
    "# Fill missing values only in numeric columns\n",
    "df.fillna(df.select_dtypes(include=[np.number]).median(), inplace=True)"
   ]
  },
  {
   "cell_type": "code",
   "execution_count": null,
   "id": "2d5cf016-0b94-4b76-80c4-a01b95df8977",
   "metadata": {},
   "outputs": [],
   "source": [
    "# Remove Duplicates\n",
    "df.drop_duplicates(inplace=True)"
   ]
  },
  {
   "cell_type": "code",
   "execution_count": null,
   "id": "836b8c9e-8317-4f68-8f67-8ec97a66f3b4",
   "metadata": {},
   "outputs": [],
   "source": [
    "# Drop Unnecessary Columns (Id, groupId, matchId)\n",
    "df.drop(columns=['Id', 'groupId', 'matchId'], inplace=True)"
   ]
  },
  {
   "cell_type": "code",
   "execution_count": null,
   "id": "067913a1-b2da-41b5-b7a8-a840983d8d02",
   "metadata": {},
   "outputs": [],
   "source": [
    "# Encode Categorical Column (matchType)\n",
    "# Convert matchType to numbers using Label Encoding\n",
    "encoder = LabelEncoder()\n",
    "df['matchType'] = encoder.fit_transform(df['matchType'])"
   ]
  },
  {
   "cell_type": "markdown",
   "id": "5ae07fcc-0621-4e4f-8d07-4f650e827bb6",
   "metadata": {},
   "source": [
    "### Exploratory Data Analysis (EDA)"
   ]
  },
  {
   "cell_type": "code",
   "execution_count": null,
   "id": "94d4ff93-f003-424d-ae38-2b070447877c",
   "metadata": {
    "scrolled": true
   },
   "outputs": [],
   "source": [
    "# Plot Correlation Heatmap\n",
    "plt.figure(figsize=(12, 8))\n",
    "sns.heatmap(df.corr(), annot=True, cmap=\"coolwarm\")\n",
    "plt.title(\"Feature Correlation Heatmap\")\n",
    "plt.show()"
   ]
  },
  {
   "cell_type": "code",
   "execution_count": null,
   "id": "d901a9fb-2fc0-475c-876e-e9ea8625e40a",
   "metadata": {},
   "outputs": [],
   "source": [
    "# Plot Distribution of Kills\n",
    "sns.histplot(df['kills'], bins=30, kde=True)\n",
    "plt.title(\"Kill Distribution\")\n",
    "plt.show()"
   ]
  },
  {
   "cell_type": "markdown",
   "id": "4cfc3cca-bb91-4f93-ae2d-167d8d839724",
   "metadata": {},
   "source": [
    "### Feature Engineering"
   ]
  },
  {
   "cell_type": "code",
   "execution_count": null,
   "id": "5d828cb3-77a3-4d57-8d6f-38459929ddf5",
   "metadata": {},
   "outputs": [],
   "source": [
    "# Create new meaningful features\n",
    "df['kill_per_distance'] = df['kills'] / (df['rideDistance'] + df['walkDistance'] + df['swimDistance'] + 1)\n",
    "df['efficiency_score'] = (df['kills'] + df['assists']) / (df['damageDealt'] + 1)"
   ]
  },
  {
   "cell_type": "markdown",
   "id": "4db02c6e-b684-416d-893f-f573294c1782",
   "metadata": {},
   "source": [
    "### Prepare Data for Model Training"
   ]
  },
  {
   "cell_type": "code",
   "execution_count": null,
   "id": "9447e8d9-db6a-4ef4-94a9-b98c9fad489e",
   "metadata": {},
   "outputs": [],
   "source": [
    "# Define X (features) and y (target variable)\n",
    "X = df.drop(columns=['winPlacePerc'])  # Drop target column\n",
    "y = df['winPlacePerc']  # Target variable"
   ]
  },
  {
   "cell_type": "code",
   "execution_count": null,
   "id": "075f8d82-3803-485a-870b-99d9b68595eb",
   "metadata": {},
   "outputs": [],
   "source": [
    "# Split Data into Training & Testing Sets\n",
    "X_train, X_test, y_train, y_test = train_test_split(X, y, test_size=0.2, random_state=42)"
   ]
  },
  {
   "cell_type": "code",
   "execution_count": null,
   "id": "34e55815-1aeb-4c39-a9fc-9f04477922e7",
   "metadata": {},
   "outputs": [],
   "source": [
    "# Scale Features (Standardization)\n",
    "scaler = StandardScaler()\n",
    "X_train = scaler.fit_transform(X_train)\n",
    "X_test = scaler.transform(X_test)"
   ]
  },
  {
   "cell_type": "markdown",
   "id": "e8e89751-92b3-4f10-9475-76f33e92ce5e",
   "metadata": {},
   "source": [
    "### Train and Evaluate Models"
   ]
  },
  {
   "cell_type": "code",
   "execution_count": null,
   "id": "918b514f-3d97-445b-b866-2e1e0bd8c003",
   "metadata": {},
   "outputs": [],
   "source": [
    "# Train Linear Regression\n",
    "lr = LinearRegression()\n",
    "lr.fit(X_train, y_train)\n",
    "y_pred_lr = lr.predict(X_test)\n",
    "\n",
    "mse_lr = mean_squared_error(y_test, y_pred_lr)\n",
    "r2_lr = r2_score(y_test, y_pred_lr)\n",
    "print(f\"Linear Regression - MSE: {mse_lr}, R2 Score: {r2_lr}\")"
   ]
  },
  {
   "cell_type": "code",
   "execution_count": null,
   "id": "80fcfc2b-7a79-43cc-a779-216cf53b8990",
   "metadata": {},
   "outputs": [],
   "source": [
    "# Train Random Forest Regressor\n",
    "rf = RandomForestRegressor(n_estimators=50, random_state=42, n_jobs=-1)\n",
    "rf.fit(X_train, y_train)\n",
    "y_pred_rf = rf.predict(X_test)\n",
    "\n",
    "mse_rf = mean_squared_error(y_test, y_pred_rf)\n",
    "r2_rf = r2_score(y_test, y_pred_rf)\n",
    "print(f\"Random Forest - MSE: {mse_rf}, R2 Score: {r2_rf}\")"
   ]
  },
  {
   "cell_type": "code",
   "execution_count": null,
   "id": "c284ca56-6314-4c41-a695-117912150998",
   "metadata": {},
   "outputs": [],
   "source": [
    "# Train Gradient Boosting Regressor\n",
    "gbr = GradientBoostingRegressor(n_estimators=50, learning_rate=0.1, random_state=42)\n",
    "gbr.fit(X_train, y_train)\n",
    "y_pred_gbr = gbr.predict(X_test)\n",
    "\n",
    "mse_gbr = mean_squared_error(y_test, y_pred_gbr)\n",
    "r2_gbr = r2_score(y_test, y_pred_gbr)\n",
    "print(f\"Gradient Boosting - MSE: {mse_gbr}, R2 Score: {r2_gbr}\")"
   ]
  },
  {
   "cell_type": "code",
   "execution_count": null,
   "id": "9025017c-6520-4121-abbf-53fe5f790955",
   "metadata": {},
   "outputs": [],
   "source": [
    "# Train XGBoost Regressor\n",
    "xgb = XGBRegressor(n_estimators=50, learning_rate=0.1, random_state=42)\n",
    "xgb.fit(X_train, y_train)\n",
    "y_pred_xgb = xgb.predict(X_test)\n",
    "\n",
    "mse_xgb = mean_squared_error(y_test, y_pred_xgb)\n",
    "r2_xgb = r2_score(y_test, y_pred_xgb)\n",
    "print(f\"XGBoost - MSE: {mse_xgb}, R2 Score: {r2_xgb}\")"
   ]
  },
  {
   "cell_type": "markdown",
   "id": "8263f5f5-92ba-41be-8bcf-bb58cd48c4ea",
   "metadata": {},
   "source": [
    "### Compare Model Performance"
   ]
  },
  {
   "cell_type": "code",
   "execution_count": null,
   "id": "50c19a9d-93da-461a-8979-23137958a8f4",
   "metadata": {},
   "outputs": [],
   "source": [
    "results = pd.DataFrame({\n",
    "    \"Model\": [\"Linear Regression\", \"Random Forest\", \"Gradient Boosting\", \"XGBoost\"],\n",
    "    \"MSE\": [mse_lr, mse_rf, mse_gbr, mse_xgb],\n",
    "    \"R2 Score\": [r2_lr, r2_rf, r2_gbr, r2_xgb]\n",
    "})\n",
    "\n",
    "print(results)"
   ]
  },
  {
   "cell_type": "markdown",
   "id": "ccbc52de-cdc1-477a-9a69-dc7708c0dfd6",
   "metadata": {},
   "source": [
    "### Feature Importance (Using XGBoost)"
   ]
  },
  {
   "cell_type": "code",
   "execution_count": null,
   "id": "4c7b6911-1d5e-4987-a47d-65094b7eef09",
   "metadata": {},
   "outputs": [],
   "source": [
    "importances = xgb.feature_importances_\n",
    "features = X.columns\n",
    "\n",
    "plt.figure(figsize=(10, 6))\n",
    "sns.barplot(x=importances, y=features)\n",
    "plt.title(\"Feature Importance (XGBoost)\")\n",
    "plt.show()"
   ]
  },
  {
   "cell_type": "markdown",
   "id": "a2aac575-dddc-448a-836e-b19936df242a",
   "metadata": {},
   "source": [
    "### Save Best Model for Deployment"
   ]
  },
  {
   "cell_type": "code",
   "execution_count": null,
   "id": "588b9379-6f57-43a3-8cae-6eb9930189c5",
   "metadata": {},
   "outputs": [],
   "source": [
    "## joblib.dump(xgb, \"pubg_win_predictor.pkl\")  # Save the best model"
   ]
  },
  {
   "cell_type": "code",
   "execution_count": null,
   "id": "93e6d63e-ebd3-45ab-b7b8-607374ea7ea2",
   "metadata": {},
   "outputs": [],
   "source": []
  }
 ],
 "metadata": {
  "kernelspec": {
   "display_name": "Python 3 (ipykernel)",
   "language": "python",
   "name": "python3"
  },
  "language_info": {
   "codemirror_mode": {
    "name": "ipython",
    "version": 3
   },
   "file_extension": ".py",
   "mimetype": "text/x-python",
   "name": "python",
   "nbconvert_exporter": "python",
   "pygments_lexer": "ipython3",
   "version": "3.11.7"
  }
 },
 "nbformat": 4,
 "nbformat_minor": 5
}
